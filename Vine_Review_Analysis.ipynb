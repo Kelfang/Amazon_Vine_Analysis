{
  "nbformat": 4,
  "nbformat_minor": 0,
  "metadata": {
    "colab": {
      "provenance": []
    },
    "kernelspec": {
      "name": "python3",
      "display_name": "Python 3"
    },
    "language_info": {
      "name": "python"
    }
  },
  "cells": [
    {
      "cell_type": "code",
      "execution_count": 2,
      "metadata": {
        "colab": {
          "base_uri": "https://localhost:8080/"
        },
        "id": "JUewTlKrpF_A",
        "outputId": "41a62ee0-263d-49cf-df81-bf97573e6891"
      },
      "outputs": [
        {
          "output_type": "stream",
          "name": "stdout",
          "text": [
            "\r0% [Working]\r            \rGet:1 https://cloud.r-project.org/bin/linux/ubuntu bionic-cran40/ InRelease [3,626 B]\n",
            "\r0% [Connecting to archive.ubuntu.com (91.189.91.38)] [Waiting for headers] [1 I\r0% [Connecting to archive.ubuntu.com (91.189.91.38)] [Waiting for headers] [Wai\r0% [1 InRelease gpgv 3,626 B] [Connecting to archive.ubuntu.com (91.189.91.38)]\r                                                                               \rGet:2 http://security.ubuntu.com/ubuntu bionic-security InRelease [88.7 kB]\n",
            "\r0% [1 InRelease gpgv 3,626 B] [Connecting to archive.ubuntu.com (91.189.91.38)]\r                                                                               \rGet:3 http://ppa.launchpad.net/c2d4u.team/c2d4u4.0+/ubuntu bionic InRelease [15.9 kB]\n",
            "Ign:4 https://developer.download.nvidia.com/compute/machine-learning/repos/ubuntu1804/x86_64  InRelease\n",
            "Hit:5 https://developer.download.nvidia.com/compute/cuda/repos/ubuntu1804/x86_64  InRelease\n",
            "Hit:6 https://developer.download.nvidia.com/compute/machine-learning/repos/ubuntu1804/x86_64  Release\n",
            "Hit:7 http://archive.ubuntu.com/ubuntu bionic InRelease\n",
            "Hit:8 http://ppa.launchpad.net/cran/libgit2/ubuntu bionic InRelease\n",
            "Get:9 http://archive.ubuntu.com/ubuntu bionic-updates InRelease [88.7 kB]\n",
            "Get:10 http://ppa.launchpad.net/deadsnakes/ppa/ubuntu bionic InRelease [15.9 kB]\n",
            "Get:12 http://archive.ubuntu.com/ubuntu bionic-backports InRelease [83.3 kB]\n",
            "Hit:13 http://ppa.launchpad.net/graphics-drivers/ppa/ubuntu bionic InRelease\n",
            "Get:14 http://ppa.launchpad.net/c2d4u.team/c2d4u4.0+/ubuntu bionic/main Sources [2,164 kB]\n",
            "Get:15 http://security.ubuntu.com/ubuntu bionic-security/universe amd64 Packages [1,551 kB]\n",
            "Get:16 http://security.ubuntu.com/ubuntu bionic-security/restricted amd64 Packages [1,187 kB]\n",
            "Get:17 http://security.ubuntu.com/ubuntu bionic-security/main amd64 Packages [3,018 kB]\n",
            "Get:18 http://ppa.launchpad.net/c2d4u.team/c2d4u4.0+/ubuntu bionic/main amd64 Packages [1,109 kB]\n",
            "Get:19 http://archive.ubuntu.com/ubuntu bionic-updates/restricted amd64 Packages [1,227 kB]\n",
            "Get:20 http://ppa.launchpad.net/deadsnakes/ppa/ubuntu bionic/main amd64 Packages [45.3 kB]\n",
            "Get:21 http://archive.ubuntu.com/ubuntu bionic-updates/universe amd64 Packages [2,328 kB]\n",
            "Get:22 http://archive.ubuntu.com/ubuntu bionic-updates/main amd64 Packages [3,444 kB]\n",
            "Fetched 16.4 MB in 4s (4,345 kB/s)\n",
            "Reading package lists... Done\n"
          ]
        }
      ],
      "source": [
        "import os\n",
        "# Find the latest version of spark 3.0  from http://www.apache.org/dist/spark/ and enter as the spark version\n",
        "# For example:\n",
        "# spark_version = 'spark-3.1.3'\n",
        "spark_version = 'spark-3.1.3'\n",
        "os.environ['SPARK_VERSION']=spark_version\n",
        "\n",
        "# Install Spark and Java\n",
        "!apt-get update\n",
        "!apt-get install openjdk-11-jdk-headless -qq > /dev/null\n",
        "!wget -q http://www.apache.org/dist/spark/$SPARK_VERSION/$SPARK_VERSION-bin-hadoop2.7.tgz\n",
        "!tar xf $SPARK_VERSION-bin-hadoop2.7.tgz\n",
        "!pip install -q findspark\n",
        "\n",
        "# Set Environment Variables\n",
        "import os\n",
        "os.environ[\"JAVA_HOME\"] = \"/usr/lib/jvm/java-11-openjdk-amd64\"\n",
        "os.environ[\"SPARK_HOME\"] = f\"/content/{spark_version}-bin-hadoop2.7\"\n",
        "\n",
        "# Start a SparkSession\n",
        "import findspark\n",
        "findspark.init()"
      ]
    },
    {
      "cell_type": "code",
      "source": [
        "# Download the Postgres driver that will allow Spark to interact with Postgres.\n",
        "!wget https://jdbc.postgresql.org/download/postgresql-42.2.16.jar"
      ],
      "metadata": {
        "colab": {
          "base_uri": "https://localhost:8080/"
        },
        "id": "OF_tBRwDqVSv",
        "outputId": "59546883-ad7b-4d86-a653-148cfc004f6a"
      },
      "execution_count": 3,
      "outputs": [
        {
          "output_type": "stream",
          "name": "stdout",
          "text": [
            "--2022-10-13 16:42:29--  https://jdbc.postgresql.org/download/postgresql-42.2.16.jar\n",
            "Resolving jdbc.postgresql.org (jdbc.postgresql.org)... 72.32.157.228, 2001:4800:3e1:1::228\n",
            "Connecting to jdbc.postgresql.org (jdbc.postgresql.org)|72.32.157.228|:443... connected.\n",
            "HTTP request sent, awaiting response... 200 OK\n",
            "Length: 1002883 (979K) [application/java-archive]\n",
            "Saving to: ‘postgresql-42.2.16.jar’\n",
            "\n",
            "postgresql-42.2.16. 100%[===================>] 979.38K  6.31MB/s    in 0.2s    \n",
            "\n",
            "2022-10-13 16:42:29 (6.31 MB/s) - ‘postgresql-42.2.16.jar’ saved [1002883/1002883]\n",
            "\n"
          ]
        }
      ]
    },
    {
      "cell_type": "code",
      "source": [
        "from pyspark.sql import SparkSession\n",
        "spark = SparkSession.builder.appName(\"M16-Amazon-Challenge\").config(\"spark.driver.extraClassPath\",\"/content/postgresql-42.2.16.jar\").getOrCreate()"
      ],
      "metadata": {
        "id": "wDr-GBWtr9rS"
      },
      "execution_count": 4,
      "outputs": []
    },
    {
      "cell_type": "code",
      "source": [
        "from pyspark import SparkFiles\n",
        "url = \"https://s3.amazonaws.com/amazon-reviews-pds/tsv/amazon_reviews_us_Mobile_Electronics_v1_00.tsv.gz\"\n",
        "spark.sparkContext.addFile(url)\n",
        "df = spark.read.option(\"encoding\", \"UTF-8\").csv(SparkFiles.get(\"amazon_reviews_us_Mobile_Electronics_v1_00.tsv.gz\"), sep=\"\\t\", header=True, inferSchema=True)\n",
        "df.show()"
      ],
      "metadata": {
        "colab": {
          "base_uri": "https://localhost:8080/"
        },
        "id": "wMUACxsBsD4z",
        "outputId": "3a948ba6-9b58-472f-cd7c-a479b26745a5"
      },
      "execution_count": 5,
      "outputs": [
        {
          "output_type": "stream",
          "name": "stdout",
          "text": [
            "+-----------+-----------+--------------+----------+--------------+--------------------+------------------+-----------+-------------+-----------+----+-----------------+--------------------+--------------------+-----------+\n",
            "|marketplace|customer_id|     review_id|product_id|product_parent|       product_title|  product_category|star_rating|helpful_votes|total_votes|vine|verified_purchase|     review_headline|         review_body|review_date|\n",
            "+-----------+-----------+--------------+----------+--------------+--------------------+------------------+-----------+-------------+-----------+----+-----------------+--------------------+--------------------+-----------+\n",
            "|         US|   20422322| R8MEA6IGAHO0B|B00MC4CED8|     217304173|BlackVue DR600GW-PMP|Mobile_Electronics|          5|            0|          0|   N|                Y|         Very Happy!|As advertised. Ev...| 2015-08-31|\n",
            "|         US|   40835037|R31LOQ8JGLPRLK|B00OQMFG1Q|     137313254|GENSSI GSM / GPS ...|Mobile_Electronics|          5|            0|          1|   N|                Y|           five star|          it's great| 2015-08-31|\n",
            "|         US|   51469641|R2Y0MM9YE6OP3P|B00QERR5CY|      82850235|iXCC Multi pack L...|Mobile_Electronics|          5|            0|          0|   N|                Y|        great cables|These work great ...| 2015-08-31|\n",
            "|         US|    4332923| RRB9C05HDOD4O|B00QUFTPV4|     221169481|abcGoodefg® FBI C...|Mobile_Electronics|          4|            0|          0|   N|                Y|Work very well bu...|Work very well bu...| 2015-08-31|\n",
            "|         US|   44855305|R26I2RI1GFV8QG|B0067XVNTG|     563475445|Generic Car Dashb...|Mobile_Electronics|          2|            0|          0|   N|                Y|Cameras has batte...|Be careful with t...| 2015-08-31|\n",
            "|         US|    7846966| RY8DDL22YG4R5|B00KA6CCVY|     713636156|Aweek® Air Acoust...|Mobile_Electronics|          3|            0|          1|   N|                Y|It appears to be ...|It appears to be ...| 2015-08-31|\n",
            "|         US|   21299354|R2AT2426ZHFUHH|B00MJCDPM2|     754171872|Sentey LS-4460 B-...|Mobile_Electronics|          3|            0|          1|   N|                Y|Didn't love the f...|First one arrived...| 2015-08-31|\n",
            "|         US|   28902968|R3RRXU2R23NMQ9|B00ET5AWBY|     508373185|iPad Car Headrest...|Mobile_Electronics|          5|            0|          0|   N|                Y|          Five Stars|Worked great for ...| 2015-08-31|\n",
            "|         US|    2074438|R250PR8VJUZ62F|B00Z9K379C|     759387370|ANWING Waterproof...|Mobile_Electronics|          4|            0|          2|   N|                Y|          Four Stars|this is a very go...| 2015-08-31|\n",
            "|         US|   48701722| RBEMQ29WJBHYG|B00YO3UYXW|     913911909|Jensen MCR-100 Ca...|Mobile_Electronics|          5|          164|        168|   N|                Y|  I LOVE my recorder|I LOVE my recorde...| 2015-08-31|\n",
            "|         US|    2990247|R19VVIUT4BZCMT|B011W26BU2|     938399424|Bluetooth Speaker...|Mobile_Electronics|          5|            2|          2|   N|                Y|          Five Stars|Great sound great...| 2015-08-31|\n",
            "|         US|   52946117|R1DT8JJUQHUKUL|B00H8PI78C|     661515294|15Pcs DC 5V 85dB ...|Mobile_Electronics|          3|            0|          1|   N|                Y|More of a beeper ...|If what you want ...| 2015-08-31|\n",
            "|         US|   49359994| RLIL6S9OGM3YA|B00M49C6MK|      91176851|      Sentey Ls 4162|Mobile_Electronics|          5|            0|          0|   N|                Y|          Five Stars|             Love it| 2015-08-31|\n",
            "|         US|    4158732|R34EZZ68VYPHO0|B011Q291PK|     891142775|IcePACK 8 Can Ins...|Mobile_Electronics|          1|            1|          1|   N|                Y|            One Star|               Sucks| 2015-08-31|\n",
            "|         US|   18944032|R3TZNSOXS13SIG|B00W6OLUGQ|     577462547|DTK® AMI MDI MMI ...|Mobile_Electronics|          2|            1|          3|   N|                Y|           Two Stars|u need to plug in...| 2015-08-31|\n",
            "|         US|     279606|R12UBZT87UX3AP|B008MY1F8W|     680240984|INPA K+CAN K+DCAN...|Mobile_Electronics|          5|            2|          2|   N|                Y|          Five Stars|Worked with MHD F...| 2015-08-31|\n",
            "|         US|   10947966| R5KCRE927NYMU|B00KW3XNUE|     219920841|Magicfly Wireless...|Mobile_Electronics|          2|            0|          0|   N|                N|Battery Cover Poo...|Just arrived,  re...| 2015-08-31|\n",
            "|         US|   18387442| RT12RQFU0V2AX|B009NGR0AK|     254898339|Humminbird XNT 9 ...|Mobile_Electronics|          5|            1|          1|   N|                Y|        Works great.|I bought this uni...| 2015-08-31|\n",
            "|         US|   48950322|R2K0YQPV5W2SJ1|B011W26BU2|     938399424|Bluetooth Speaker...|Mobile_Electronics|          4|            2|          2|   N|                Y|A Lot of Sound In...|I am giving the s...| 2015-08-31|\n",
            "|         US|   48148197|R104MY31OKNGXH|B00PAP68WO|     366592530|Foxnovo 3.7V 380m...|Mobile_Electronics|          5|            0|          0|   N|                Y|          Five Stars|Met my applicatio...| 2015-08-31|\n",
            "+-----------+-----------+--------------+----------+--------------+--------------------+------------------+-----------+-------------+-----------+----+-----------------+--------------------+--------------------+-----------+\n",
            "only showing top 20 rows\n",
            "\n"
          ]
        }
      ]
    },
    {
      "cell_type": "code",
      "source": [
        "from pyspark.sql.functions import to_date, col, desc\n",
        "# Read in the Review dataset as a DataFrame\n",
        "df = df.dropna()\n",
        "df.dtypes"
      ],
      "metadata": {
        "colab": {
          "base_uri": "https://localhost:8080/"
        },
        "id": "4n1BQexRtP1E",
        "outputId": "8bf53b1a-6668-4480-b974-ad7ce0cdd706"
      },
      "execution_count": 6,
      "outputs": [
        {
          "output_type": "execute_result",
          "data": {
            "text/plain": [
              "[('marketplace', 'string'),\n",
              " ('customer_id', 'int'),\n",
              " ('review_id', 'string'),\n",
              " ('product_id', 'string'),\n",
              " ('product_parent', 'int'),\n",
              " ('product_title', 'string'),\n",
              " ('product_category', 'string'),\n",
              " ('star_rating', 'int'),\n",
              " ('helpful_votes', 'int'),\n",
              " ('total_votes', 'int'),\n",
              " ('vine', 'string'),\n",
              " ('verified_purchase', 'string'),\n",
              " ('review_headline', 'string'),\n",
              " ('review_body', 'string'),\n",
              " ('review_date', 'string')]"
            ]
          },
          "metadata": {},
          "execution_count": 6
        }
      ]
    },
    {
      "cell_type": "code",
      "source": [
        "# Create the vine_table DataFrame.\n",
        "vine_df = df.select([\"review_id\", \"star_rating\",\"helpful_votes\", \"total_votes\", \"vine\", \"verified_purchase\"])\n",
        "vine_df.show()"
      ],
      "metadata": {
        "colab": {
          "base_uri": "https://localhost:8080/"
        },
        "id": "9FBjFvAXtVGW",
        "outputId": "344f44e1-5b73-4f3f-f049-4400658d234a"
      },
      "execution_count": 7,
      "outputs": [
        {
          "output_type": "stream",
          "name": "stdout",
          "text": [
            "+--------------+-----------+-------------+-----------+----+-----------------+\n",
            "|     review_id|star_rating|helpful_votes|total_votes|vine|verified_purchase|\n",
            "+--------------+-----------+-------------+-----------+----+-----------------+\n",
            "| R8MEA6IGAHO0B|          5|            0|          0|   N|                Y|\n",
            "|R31LOQ8JGLPRLK|          5|            0|          1|   N|                Y|\n",
            "|R2Y0MM9YE6OP3P|          5|            0|          0|   N|                Y|\n",
            "| RRB9C05HDOD4O|          4|            0|          0|   N|                Y|\n",
            "|R26I2RI1GFV8QG|          2|            0|          0|   N|                Y|\n",
            "| RY8DDL22YG4R5|          3|            0|          1|   N|                Y|\n",
            "|R2AT2426ZHFUHH|          3|            0|          1|   N|                Y|\n",
            "|R3RRXU2R23NMQ9|          5|            0|          0|   N|                Y|\n",
            "|R250PR8VJUZ62F|          4|            0|          2|   N|                Y|\n",
            "| RBEMQ29WJBHYG|          5|          164|        168|   N|                Y|\n",
            "|R19VVIUT4BZCMT|          5|            2|          2|   N|                Y|\n",
            "|R1DT8JJUQHUKUL|          3|            0|          1|   N|                Y|\n",
            "| RLIL6S9OGM3YA|          5|            0|          0|   N|                Y|\n",
            "|R34EZZ68VYPHO0|          1|            1|          1|   N|                Y|\n",
            "|R3TZNSOXS13SIG|          2|            1|          3|   N|                Y|\n",
            "|R12UBZT87UX3AP|          5|            2|          2|   N|                Y|\n",
            "| R5KCRE927NYMU|          2|            0|          0|   N|                N|\n",
            "| RT12RQFU0V2AX|          5|            1|          1|   N|                Y|\n",
            "|R2K0YQPV5W2SJ1|          4|            2|          2|   N|                Y|\n",
            "|R104MY31OKNGXH|          5|            0|          0|   N|                Y|\n",
            "+--------------+-----------+-------------+-----------+----+-----------------+\n",
            "only showing top 20 rows\n",
            "\n"
          ]
        }
      ]
    },
    {
      "cell_type": "code",
      "source": [
        "# 1. Filter data and create DataFrame to collect all rows where total_votes is equal to or greater than 20. \n",
        "twenty_plus_votes_df = vine_df.filter(\"total_votes >=20\")\n",
        "twenty_plus_votes_df.orderBy(twenty_plus_votes_df[\"total_votes\"].desc()).show()"
      ],
      "metadata": {
        "colab": {
          "base_uri": "https://localhost:8080/"
        },
        "id": "rEym75vdvY-a",
        "outputId": "5c495c72-652b-448f-c556-1c1ee5fc7867"
      },
      "execution_count": 8,
      "outputs": [
        {
          "output_type": "stream",
          "name": "stdout",
          "text": [
            "+--------------+-----------+-------------+-----------+----+-----------------+\n",
            "|     review_id|star_rating|helpful_votes|total_votes|vine|verified_purchase|\n",
            "+--------------+-----------+-------------+-----------+----+-----------------+\n",
            "|R15NZ47QWFG3AO|          5|          769|        791|   N|                Y|\n",
            "|R2AJMFBMSZQ754|          3|          435|        448|   N|                Y|\n",
            "| RWF03LXVXC22A|          3|          396|        445|   Y|                N|\n",
            "|R203WXG4O3HOJP|          5|          425|        429|   N|                Y|\n",
            "|R2ZE4SAM8HBB0Z|          1|          415|        427|   N|                N|\n",
            "| R1Q1TFIZMVAQJ|          1|          323|        337|   N|                Y|\n",
            "|R1E5YBZEWCBACE|          5|          310|        318|   N|                Y|\n",
            "| R51C1SWZ7LR84|          5|          306|        314|   N|                Y|\n",
            "|R2U5ZTNIJW03HV|          1|          257|        311|   N|                N|\n",
            "|R2SW571Y0V66KI|          1|          293|        301|   N|                Y|\n",
            "|R2E7HGLYYQ56P2|          4|          246|        294|   N|                Y|\n",
            "|R13W3EMIUV120L|          4|          288|        294|   N|                Y|\n",
            "|R2OC5E52NBWF9U|          5|          250|        293|   N|                N|\n",
            "| R32GCZSDK02RV|          4|          284|        291|   N|                Y|\n",
            "| RLNIWR3PUVFCK|          1|          280|        287|   N|                Y|\n",
            "|R2SPDIMR3HD75I|          4|          280|        284|   N|                N|\n",
            "| REPU28WG1VZUE|          5|          242|        281|   Y|                N|\n",
            "|R38VPKV4ZC70N5|          5|          268|        278|   N|                Y|\n",
            "|R3E8RFN6TGG011|          1|           35|        273|   N|                Y|\n",
            "|R1ZEWCH6H07EYJ|          1|          257|        268|   N|                Y|\n",
            "+--------------+-----------+-------------+-----------+----+-----------------+\n",
            "only showing top 20 rows\n",
            "\n"
          ]
        }
      ]
    },
    {
      "cell_type": "code",
      "source": [
        "# 2. Filter new DataFrame (twenty_plus_votes_df) to retrieve all rows where the number of helpful_votes / total_votes is equal to or greater than 50%.\n",
        "helpful_votes_df = twenty_plus_votes_df.filter(\"(helpful_votes/total_votes)>=0.5\")\n",
        "helpful_votes_df.orderBy(helpful_votes_df[\"helpful_votes\"].desc()).show()"
      ],
      "metadata": {
        "colab": {
          "base_uri": "https://localhost:8080/"
        },
        "id": "6LdBSn-dvx09",
        "outputId": "682e8ac9-f122-44dd-bdf1-8c99e297f329"
      },
      "execution_count": 9,
      "outputs": [
        {
          "output_type": "stream",
          "name": "stdout",
          "text": [
            "+--------------+-----------+-------------+-----------+----+-----------------+\n",
            "|     review_id|star_rating|helpful_votes|total_votes|vine|verified_purchase|\n",
            "+--------------+-----------+-------------+-----------+----+-----------------+\n",
            "|R15NZ47QWFG3AO|          5|          769|        791|   N|                Y|\n",
            "|R2AJMFBMSZQ754|          3|          435|        448|   N|                Y|\n",
            "|R203WXG4O3HOJP|          5|          425|        429|   N|                Y|\n",
            "|R2ZE4SAM8HBB0Z|          1|          415|        427|   N|                N|\n",
            "| RWF03LXVXC22A|          3|          396|        445|   Y|                N|\n",
            "| R1Q1TFIZMVAQJ|          1|          323|        337|   N|                Y|\n",
            "|R1E5YBZEWCBACE|          5|          310|        318|   N|                Y|\n",
            "| R51C1SWZ7LR84|          5|          306|        314|   N|                Y|\n",
            "|R2SW571Y0V66KI|          1|          293|        301|   N|                Y|\n",
            "|R13W3EMIUV120L|          4|          288|        294|   N|                Y|\n",
            "| R32GCZSDK02RV|          4|          284|        291|   N|                Y|\n",
            "| RLNIWR3PUVFCK|          1|          280|        287|   N|                Y|\n",
            "|R2SPDIMR3HD75I|          4|          280|        284|   N|                N|\n",
            "|R38VPKV4ZC70N5|          5|          268|        278|   N|                Y|\n",
            "|R1ZEWCH6H07EYJ|          1|          257|        268|   N|                Y|\n",
            "|R2U5ZTNIJW03HV|          1|          257|        311|   N|                N|\n",
            "| R3A1V036U8D7B|          4|          252|        262|   N|                Y|\n",
            "|R2OC5E52NBWF9U|          5|          250|        293|   N|                N|\n",
            "| REG5KCJYD18TW|          4|          248|        255|   N|                Y|\n",
            "|R2E7HGLYYQ56P2|          4|          246|        294|   N|                Y|\n",
            "+--------------+-----------+-------------+-----------+----+-----------------+\n",
            "only showing top 20 rows\n",
            "\n"
          ]
        }
      ]
    },
    {
      "cell_type": "code",
      "source": [
        "# 3. Filter new DataFrame (helpful_votes_df) to create new DataFrame that retrieves all the rows where a review was written as part of the (paid) Vine program.\n",
        "paid_reviews_df = helpful_votes_df.filter(\"vine == 'Y'\")\n",
        "paid_reviews_df.show(truncate=False)"
      ],
      "metadata": {
        "colab": {
          "base_uri": "https://localhost:8080/"
        },
        "id": "jhVymRQQzoYj",
        "outputId": "6fdde607-caa4-4bcf-9419-03888316dcf5"
      },
      "execution_count": 10,
      "outputs": [
        {
          "output_type": "stream",
          "name": "stdout",
          "text": [
            "+--------------+-----------+-------------+-----------+----+-----------------+\n",
            "|review_id     |star_rating|helpful_votes|total_votes|vine|verified_purchase|\n",
            "+--------------+-----------+-------------+-----------+----+-----------------+\n",
            "|R3BOQTLUU3Y4L8|4          |42           |55         |Y   |N                |\n",
            "|RWF03LXVXC22A |3          |396          |445        |Y   |N                |\n",
            "|REPU28WG1VZUE |5          |242          |281        |Y   |N                |\n",
            "|R1D6REC9HPJVQY|4          |31           |41         |Y   |N                |\n",
            "+--------------+-----------+-------------+-----------+----+-----------------+\n",
            "\n"
          ]
        }
      ]
    },
    {
      "cell_type": "code",
      "source": [
        "# 4. Retrieve all the rows where the review was not part of the Vine program (unpaid).\n",
        "unpaid_reviews_df = helpful_votes_df.filter(\"vine == 'N'\")\n",
        "unpaid_reviews_df.show()"
      ],
      "metadata": {
        "colab": {
          "base_uri": "https://localhost:8080/"
        },
        "id": "TDqfleZO1Eq5",
        "outputId": "564abc22-732b-484e-a5dc-b41c33aba1a3"
      },
      "execution_count": 11,
      "outputs": [
        {
          "output_type": "stream",
          "name": "stdout",
          "text": [
            "+--------------+-----------+-------------+-----------+----+-----------------+\n",
            "|     review_id|star_rating|helpful_votes|total_votes|vine|verified_purchase|\n",
            "+--------------+-----------+-------------+-----------+----+-----------------+\n",
            "| RBEMQ29WJBHYG|          5|          164|        168|   N|                Y|\n",
            "|R13W3EMIUV120L|          4|          288|        294|   N|                Y|\n",
            "|R30TJ8POYNVCRE|          5|           15|         21|   N|                N|\n",
            "|R1LK03P7BCJEJD|          1|           31|         35|   N|                Y|\n",
            "| RBXUICKGHL685|          1|           48|         52|   N|                N|\n",
            "|R2E16WLZKP78GO|          5|           19|         21|   N|                Y|\n",
            "|R1EN4PGQIFSENW|          5|           27|         28|   N|                Y|\n",
            "| RXZWQU66AHIYG|          5|           24|         25|   N|                Y|\n",
            "|R2IXCZCSUKH8FB|          3|           78|         82|   N|                Y|\n",
            "|R25RB38U9LL8OE|          5|           24|         29|   N|                Y|\n",
            "| RSHPPH6BRXYRS|          2|           42|         48|   N|                N|\n",
            "|R39HYCYEWFZP3B|          5|           36|         36|   N|                N|\n",
            "|R2C68DIKTG0M7W|          5|           18|         20|   N|                Y|\n",
            "|R2I6O4S2CZK8WQ|          1|          175|        181|   N|                Y|\n",
            "|R1EPU8R4MVRIQ7|          4|           21|         22|   N|                Y|\n",
            "|R1AL1OVEHNX5JC|          5|           19|         22|   N|                Y|\n",
            "| RVE1FMV48N1ZD|          5|           37|         41|   N|                N|\n",
            "| R6SR9BXDPIYMZ|          5|           51|         57|   N|                Y|\n",
            "|R1JQPDB1WJ4CKV|          3|           25|         26|   N|                N|\n",
            "|R3L7LS0NW1L6PQ|          5|           97|        101|   N|                Y|\n",
            "+--------------+-----------+-------------+-----------+----+-----------------+\n",
            "only showing top 20 rows\n",
            "\n"
          ]
        }
      ]
    },
    {
      "cell_type": "markdown",
      "source": [
        "### **Calculations** \n",
        "Using the following filters:\n",
        "  * 20 or more total_votes\n",
        "\n",
        "*There are two sets of calculations for Step 5 due to lack of clarity on which DataFrames to use in the Deliverable 2 instructions.*\n"
      ],
      "metadata": {
        "id": "_VCv82tbSzC0"
      }
    },
    {
      "cell_type": "code",
      "source": [
        "# 5a. Determine the total number of reviews that have a count of 20 or more total votes.\n",
        "total_review_count_df = twenty_plus_votes_df.count()\n",
        "total_review_count_df"
      ],
      "metadata": {
        "colab": {
          "base_uri": "https://localhost:8080/"
        },
        "id": "VDxyZ11u1bOw",
        "outputId": "3852e4c2-9551-4b32-9551-1ccbd22a8de6"
      },
      "execution_count": 12,
      "outputs": [
        {
          "output_type": "execute_result",
          "data": {
            "text/plain": [
              "1190"
            ]
          },
          "metadata": {},
          "execution_count": 12
        }
      ]
    },
    {
      "cell_type": "code",
      "source": [
        "# 5b. Determine the number of 5-star reviews.\n",
        "five_stars_df = twenty_plus_votes_df.filter(\"star_rating==5\")\n",
        "five_stars_count = five_stars_df.count()\n",
        "five_stars_count"
      ],
      "metadata": {
        "colab": {
          "base_uri": "https://localhost:8080/"
        },
        "id": "-ZaqG5dU2AI7",
        "outputId": "09994f74-5425-4a4b-f56a-4ffe021028f8"
      },
      "execution_count": 13,
      "outputs": [
        {
          "output_type": "execute_result",
          "data": {
            "text/plain": [
              "558"
            ]
          },
          "metadata": {},
          "execution_count": 13
        }
      ]
    },
    {
      "cell_type": "code",
      "source": [
        "# 5c. Determine the count of 5-star reviews for PAID (to find percentage).\n",
        "paid_five_stars_df = five_stars_df.filter(\"vine == 'Y'\")\n",
        "paid_five_stars_count = paid_five_stars_df.count()\n",
        "paid_five_stars_count"
      ],
      "metadata": {
        "colab": {
          "base_uri": "https://localhost:8080/"
        },
        "id": "T9RHm3DI2zCt",
        "outputId": "82a58d78-82d4-48db-a9ba-b86ffeca1a79"
      },
      "execution_count": 14,
      "outputs": [
        {
          "output_type": "execute_result",
          "data": {
            "text/plain": [
              "1"
            ]
          },
          "metadata": {},
          "execution_count": 14
        }
      ]
    },
    {
      "cell_type": "code",
      "source": [
        "# 5d. Determine the percentage of 5-star reviews for PAID.\n",
        "percent_paid_five_stars = (paid_five_stars_count/five_stars_count)*100\n",
        "round(percent_paid_five_stars, ndigits=2)"
      ],
      "metadata": {
        "colab": {
          "base_uri": "https://localhost:8080/"
        },
        "id": "YxpL_mG83T87",
        "outputId": "d5174301-989f-4361-a52e-c448d6f148a2"
      },
      "execution_count": 15,
      "outputs": [
        {
          "output_type": "execute_result",
          "data": {
            "text/plain": [
              "0.18"
            ]
          },
          "metadata": {},
          "execution_count": 15
        }
      ]
    },
    {
      "cell_type": "code",
      "source": [
        "# 5e. Determine the count of 5-star reviews for UNPAID (to find percentage).\n",
        "unpaid_five_stars_df = five_stars_df.filter(\"vine == 'N'\")\n",
        "unpaid_five_stars_count = unpaid_five_stars_df.count()\n",
        "unpaid_five_stars_count"
      ],
      "metadata": {
        "colab": {
          "base_uri": "https://localhost:8080/"
        },
        "id": "b1KoQ0bIlWbB",
        "outputId": "063e9424-4d4b-4881-fddf-2f241bfbe847"
      },
      "execution_count": 16,
      "outputs": [
        {
          "output_type": "execute_result",
          "data": {
            "text/plain": [
              "557"
            ]
          },
          "metadata": {},
          "execution_count": 16
        }
      ]
    },
    {
      "cell_type": "code",
      "source": [
        "# 5f. Determine the percentage of 5-star reviews for UNPAID.\n",
        "percent_unpaid_five_stars = (unpaid_five_stars_count/five_stars_count)*100\n",
        "round(percent_unpaid_five_stars, ndigits=2)"
      ],
      "metadata": {
        "colab": {
          "base_uri": "https://localhost:8080/"
        },
        "id": "EA8yIkgbmOtx",
        "outputId": "46346adb-1ed1-4529-985b-873537d395d6"
      },
      "execution_count": 17,
      "outputs": [
        {
          "output_type": "execute_result",
          "data": {
            "text/plain": [
              "99.82"
            ]
          },
          "metadata": {},
          "execution_count": 17
        }
      ]
    },
    {
      "cell_type": "markdown",
      "source": [
        "### **Alternative Calculations**\n",
        "Using the following filters:\n",
        "  * 20 or more total_votes\n",
        "  * helpful_votes divided by total_votes is equal/greater than 50%."
      ],
      "metadata": {
        "id": "gGtsHcIJPqSf"
      }
    },
    {
      "cell_type": "code",
      "source": [
        "#  Alternative: 5a. Determine the total number of reviews that have a count of 20 or more total votes AND 50% (or more) voted as helpful.\n",
        "helpful_total_review_count_df = helpful_votes_df.count()\n",
        "helpful_total_review_count_df"
      ],
      "metadata": {
        "colab": {
          "base_uri": "https://localhost:8080/"
        },
        "id": "Lj5XoNJiPhCz",
        "outputId": "4dcfd462-1bee-4050-8673-61e691ca5cf6"
      },
      "execution_count": 25,
      "outputs": [
        {
          "output_type": "execute_result",
          "data": {
            "text/plain": [
              "1068"
            ]
          },
          "metadata": {},
          "execution_count": 25
        }
      ]
    },
    {
      "cell_type": "code",
      "source": [
        "# Alternative: 5b. Determine the number of 5-star reviews (based on count of 20 or more votes and 50%+ voted as helpful).\n",
        "alt_five_stars_df = helpful_votes_df.filter(\"star_rating==5\")\n",
        "alt_five_stars_count = alt_five_stars_df.count()\n",
        "alt_five_stars_count"
      ],
      "metadata": {
        "colab": {
          "base_uri": "https://localhost:8080/"
        },
        "id": "t1lwIelVQZyU",
        "outputId": "802e3783-1568-40bc-cd9d-006bcae601d1"
      },
      "execution_count": 26,
      "outputs": [
        {
          "output_type": "execute_result",
          "data": {
            "text/plain": [
              "528"
            ]
          },
          "metadata": {},
          "execution_count": 26
        }
      ]
    },
    {
      "cell_type": "code",
      "source": [
        "# Alternative: 5c. Determine the count of 5-star reviews for PAID (to find percentage) - (based on count of 20 or more votes and 50%+ voted as helpful).\n",
        "alt_paid_five_stars_df = alt_five_stars_df.filter(\"vine == 'Y'\")\n",
        "alt_paid_five_stars_count = paid_five_stars_df.count()\n",
        "alt_paid_five_stars_count"
      ],
      "metadata": {
        "colab": {
          "base_uri": "https://localhost:8080/"
        },
        "id": "Kzu9aNpnRCHE",
        "outputId": "d29b397f-3585-4335-e621-2554e9591740"
      },
      "execution_count": 27,
      "outputs": [
        {
          "output_type": "execute_result",
          "data": {
            "text/plain": [
              "1"
            ]
          },
          "metadata": {},
          "execution_count": 27
        }
      ]
    },
    {
      "cell_type": "code",
      "source": [
        "# Alternative: 5d. Determine the percentage of 5-star reviews for PAID (based on count of 20 or more votes and 50%+ voted as helpful).\n",
        "alt_percent_paid_five_stars = (alt_paid_five_stars_count/alt_five_stars_count)*100\n",
        "round(alt_percent_paid_five_stars, ndigits=2)"
      ],
      "metadata": {
        "colab": {
          "base_uri": "https://localhost:8080/"
        },
        "id": "CgUJG9zRRUkH",
        "outputId": "d1401d57-306f-4f20-dfde-0e1f0aa51227"
      },
      "execution_count": 28,
      "outputs": [
        {
          "output_type": "execute_result",
          "data": {
            "text/plain": [
              "0.19"
            ]
          },
          "metadata": {},
          "execution_count": 28
        }
      ]
    },
    {
      "cell_type": "code",
      "source": [
        "# Alternative: 5e. Determine the count of 5-star reviews for UNPAID (to find percentage) - (based on count of 20 or more votes and 50%+ voted as helpful).\n",
        "alt_unpaid_five_stars_df = alt_five_stars_df.filter(\"vine == 'N'\")\n",
        "alt_unpaid_five_stars_count = alt_unpaid_five_stars_df.count()\n",
        "alt_unpaid_five_stars_count"
      ],
      "metadata": {
        "colab": {
          "base_uri": "https://localhost:8080/"
        },
        "id": "R7JbMxluRi_g",
        "outputId": "5219e734-58f6-4331-cd93-0b841456f66d"
      },
      "execution_count": 29,
      "outputs": [
        {
          "output_type": "execute_result",
          "data": {
            "text/plain": [
              "527"
            ]
          },
          "metadata": {},
          "execution_count": 29
        }
      ]
    },
    {
      "cell_type": "code",
      "source": [
        "# Alternative: 5f. Determine the percentage of 5-star reviews for UNPAID (based on count of 20 or more votes and 50%+ voted as helpful).\n",
        "alt_percent_unpaid_five_stars = (alt_unpaid_five_stars_count/alt_five_stars_count)*100\n",
        "round(alt_percent_unpaid_five_stars, ndigits=2)"
      ],
      "metadata": {
        "colab": {
          "base_uri": "https://localhost:8080/"
        },
        "id": "gFdlMCqRRw8P",
        "outputId": "6dfc685a-3873-4f70-a074-f02595ade8c3"
      },
      "execution_count": 30,
      "outputs": [
        {
          "output_type": "execute_result",
          "data": {
            "text/plain": [
              "99.81"
            ]
          },
          "metadata": {},
          "execution_count": 30
        }
      ]
    }
  ]
}